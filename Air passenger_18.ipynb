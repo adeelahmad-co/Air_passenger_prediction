{
 "cells": [
  {
   "cell_type": "code",
   "execution_count": 1,
   "metadata": {},
   "outputs": [
    {
     "name": "stderr",
     "output_type": "stream",
     "text": [
      "C:\\Users\\Adeel\\Anaconda3\\lib\\site-packages\\statsmodels\\tools\\_testing.py:19: FutureWarning: pandas.util.testing is deprecated. Use the functions in the public API at pandas.testing instead.\n",
      "  import pandas.util.testing as tm\n"
     ]
    }
   ],
   "source": [
    "import numpy as np\n",
    "import pandas as pd\n",
    "import matplotlib.pyplot as plt\n",
    "import seaborn as sns\n",
    "import tensorflow as tf\n",
    "from tensorflow.keras import Sequential\n",
    "from tensorflow.keras.layers import Flatten,Dense,Dropout,LSTM\n",
    "from tensorflow.keras.optimizers import Adam\n",
    "from sklearn.model_selection import train_test_split\n",
    "from sklearn.preprocessing import MinMaxScaler"
   ]
  },
  {
   "cell_type": "code",
   "execution_count": 2,
   "metadata": {},
   "outputs": [
    {
     "data": {
      "text/plain": [
       "array([[112],\n",
       "       [118],\n",
       "       [132],\n",
       "       [129],\n",
       "       [121],\n",
       "       [135],\n",
       "       [148],\n",
       "       [148],\n",
       "       [136],\n",
       "       [119],\n",
       "       [104],\n",
       "       [118],\n",
       "       [115],\n",
       "       [126],\n",
       "       [141],\n",
       "       [135],\n",
       "       [125],\n",
       "       [149],\n",
       "       [170],\n",
       "       [170],\n",
       "       [158],\n",
       "       [133],\n",
       "       [114],\n",
       "       [140],\n",
       "       [145],\n",
       "       [150],\n",
       "       [178],\n",
       "       [163],\n",
       "       [172],\n",
       "       [178],\n",
       "       [199],\n",
       "       [199],\n",
       "       [184],\n",
       "       [162],\n",
       "       [146],\n",
       "       [166],\n",
       "       [171],\n",
       "       [180],\n",
       "       [193],\n",
       "       [181],\n",
       "       [183],\n",
       "       [218],\n",
       "       [230],\n",
       "       [242],\n",
       "       [209],\n",
       "       [191],\n",
       "       [172],\n",
       "       [194],\n",
       "       [196],\n",
       "       [196],\n",
       "       [236],\n",
       "       [235],\n",
       "       [229],\n",
       "       [243],\n",
       "       [264],\n",
       "       [272],\n",
       "       [237],\n",
       "       [211],\n",
       "       [180],\n",
       "       [201],\n",
       "       [204],\n",
       "       [188],\n",
       "       [235],\n",
       "       [227],\n",
       "       [234],\n",
       "       [264],\n",
       "       [302],\n",
       "       [293],\n",
       "       [259],\n",
       "       [229],\n",
       "       [203],\n",
       "       [229],\n",
       "       [242],\n",
       "       [233],\n",
       "       [267],\n",
       "       [269],\n",
       "       [270],\n",
       "       [315],\n",
       "       [364],\n",
       "       [347],\n",
       "       [312],\n",
       "       [274],\n",
       "       [237],\n",
       "       [278],\n",
       "       [284],\n",
       "       [277],\n",
       "       [317],\n",
       "       [313],\n",
       "       [318],\n",
       "       [374],\n",
       "       [413],\n",
       "       [405],\n",
       "       [355],\n",
       "       [306],\n",
       "       [271],\n",
       "       [306],\n",
       "       [315],\n",
       "       [301],\n",
       "       [356],\n",
       "       [348],\n",
       "       [355],\n",
       "       [422],\n",
       "       [465],\n",
       "       [467],\n",
       "       [404],\n",
       "       [347],\n",
       "       [305],\n",
       "       [336],\n",
       "       [340],\n",
       "       [318],\n",
       "       [362],\n",
       "       [348],\n",
       "       [363],\n",
       "       [435],\n",
       "       [491],\n",
       "       [505],\n",
       "       [404],\n",
       "       [359],\n",
       "       [310],\n",
       "       [337],\n",
       "       [360],\n",
       "       [342],\n",
       "       [406],\n",
       "       [396],\n",
       "       [420],\n",
       "       [472],\n",
       "       [548],\n",
       "       [559],\n",
       "       [463],\n",
       "       [407],\n",
       "       [362],\n",
       "       [405],\n",
       "       [417],\n",
       "       [391],\n",
       "       [419],\n",
       "       [461],\n",
       "       [472],\n",
       "       [535],\n",
       "       [622],\n",
       "       [606],\n",
       "       [508],\n",
       "       [461],\n",
       "       [390],\n",
       "       [432]], dtype=int64)"
      ]
     },
     "execution_count": 2,
     "metadata": {},
     "output_type": "execute_result"
    }
   ],
   "source": [
    "dataset = pd.read_csv('AirPassengers.csv')\n",
    "# dataset.head()\n",
    "dataset = dataset['#Passengers']\n",
    "dataset = np.array(dataset).reshape(-1,1)\n",
    "dataset"
   ]
  },
  {
   "cell_type": "code",
   "execution_count": 3,
   "metadata": {},
   "outputs": [
    {
     "data": {
      "text/plain": [
       "[<matplotlib.lines.Line2D at 0x134c2f48>]"
      ]
     },
     "execution_count": 3,
     "metadata": {},
     "output_type": "execute_result"
    },
    {
     "data": {
      "image/png": "[encoded data removed]",
      "text/plain": [
       "<Figure size 432x288 with 1 Axes>"
      ]
     },
     "metadata": {
      "needs_background": "light"
     },
     "output_type": "display_data"
    }
   ],
   "source": [
    " plt.plot(dataset)"
   ]
  },
  {
   "cell_type": "code",
   "execution_count": 4,
   "metadata": {},
   "outputs": [
    {
     "data": {
      "text/plain": [
       "0.0"
      ]
     },
     "execution_count": 4,
     "metadata": {},
     "output_type": "execute_result"
    }
   ],
   "source": [
    "scaler = MinMaxScaler()\n",
    "dataset = scaler.fit_transform(dataset)\n",
    "dataset.min()"
   ]
  },
  {
   "cell_type": "code",
   "execution_count": 5,
   "metadata": {},
   "outputs": [],
   "source": [
    "train_size = 100\n",
    "test_size = 44"
   ]
  },
  {
   "cell_type": "code",
   "execution_count": 6,
   "metadata": {},
   "outputs": [
    {
     "data": {
      "text/plain": [
       "(100, 1)"
      ]
     },
     "execution_count": 6,
     "metadata": {},
     "output_type": "execute_result"
    }
   ],
   "source": [
    "train = dataset[0:train_size,:]\n",
    "train.shape"
   ]
  },
  {
   "cell_type": "code",
   "execution_count": 7,
   "metadata": {},
   "outputs": [
    {
     "data": {
      "text/plain": [
       "(44, 1)"
      ]
     },
     "execution_count": 7,
     "metadata": {},
     "output_type": "execute_result"
    }
   ],
   "source": [
    "test = dataset[train_size:144,:]\n",
    "test.shape"
   ]
  },
  {
   "cell_type": "code",
   "execution_count": 8,
   "metadata": {},
   "outputs": [],
   "source": [
    "# build training and testing data"
   ]
  },
  {
   "cell_type": "code",
   "execution_count": 9,
   "metadata": {},
   "outputs": [],
   "source": [
    "def get_data(dataset,look_back):\n",
    "    dataX,dataY = [],[]\n",
    "    for i in range(len(dataset)-look_back-1):\n",
    "        a = dataset[i:(i+look_back),0]\n",
    "        dataX.append(a)\n",
    "        dataY.append(dataset[i+look_back,0])\n",
    "    return np.array(dataX),np.array(dataY)    "
   ]
  },
  {
   "cell_type": "code",
   "execution_count": 10,
   "metadata": {},
   "outputs": [],
   "source": [
    "look_back= 1\n",
    "X_train,y_train = get_data(train,look_back)"
   ]
  },
  {
   "cell_type": "code",
   "execution_count": 11,
   "metadata": {},
   "outputs": [
    {
     "data": {
      "text/plain": [
       "(98, 1)"
      ]
     },
     "execution_count": 11,
     "metadata": {},
     "output_type": "execute_result"
    }
   ],
   "source": [
    "X_train.shape"
   ]
  },
  {
   "cell_type": "code",
   "execution_count": 12,
   "metadata": {},
   "outputs": [
    {
     "data": {
      "text/plain": [
       "(array([[0.01544402],\n",
       "        [0.02702703],\n",
       "        [0.05405405],\n",
       "        [0.04826255],\n",
       "        [0.03281853],\n",
       "        [0.05984556],\n",
       "        [0.08494208],\n",
       "        [0.08494208],\n",
       "        [0.06177606],\n",
       "        [0.02895753],\n",
       "        [0.        ],\n",
       "        [0.02702703],\n",
       "        [0.02123552],\n",
       "        [0.04247104],\n",
       "        [0.07142857],\n",
       "        [0.05984556],\n",
       "        [0.04054054],\n",
       "        [0.08687259],\n",
       "        [0.12741313],\n",
       "        [0.12741313],\n",
       "        [0.1042471 ],\n",
       "        [0.05598456],\n",
       "        [0.01930502],\n",
       "        [0.06949807],\n",
       "        [0.07915058],\n",
       "        [0.08880309],\n",
       "        [0.14285714],\n",
       "        [0.11389961],\n",
       "        [0.13127413],\n",
       "        [0.14285714],\n",
       "        [0.18339768],\n",
       "        [0.18339768],\n",
       "        [0.15444015],\n",
       "        [0.11196911],\n",
       "        [0.08108108],\n",
       "        [0.11969112],\n",
       "        [0.12934363],\n",
       "        [0.14671815],\n",
       "        [0.17181467],\n",
       "        [0.14864865],\n",
       "        [0.15250965],\n",
       "        [0.22007722],\n",
       "        [0.24324324],\n",
       "        [0.26640927],\n",
       "        [0.2027027 ],\n",
       "        [0.16795367],\n",
       "        [0.13127413],\n",
       "        [0.17374517],\n",
       "        [0.17760618],\n",
       "        [0.17760618],\n",
       "        [0.25482625],\n",
       "        [0.25289575],\n",
       "        [0.24131274],\n",
       "        [0.26833977],\n",
       "        [0.30888031],\n",
       "        [0.32432432],\n",
       "        [0.25675676],\n",
       "        [0.20656371],\n",
       "        [0.14671815],\n",
       "        [0.18725869],\n",
       "        [0.19305019],\n",
       "        [0.16216216],\n",
       "        [0.25289575],\n",
       "        [0.23745174],\n",
       "        [0.25096525],\n",
       "        [0.30888031],\n",
       "        [0.38223938],\n",
       "        [0.36486486],\n",
       "        [0.2992278 ],\n",
       "        [0.24131274],\n",
       "        [0.19111969],\n",
       "        [0.24131274],\n",
       "        [0.26640927],\n",
       "        [0.24903475],\n",
       "        [0.31467181],\n",
       "        [0.31853282],\n",
       "        [0.32046332],\n",
       "        [0.40733591],\n",
       "        [0.5019305 ],\n",
       "        [0.46911197],\n",
       "        [0.4015444 ],\n",
       "        [0.32818533],\n",
       "        [0.25675676],\n",
       "        [0.33590734],\n",
       "        [0.34749035],\n",
       "        [0.33397683],\n",
       "        [0.41119691],\n",
       "        [0.4034749 ],\n",
       "        [0.41312741],\n",
       "        [0.52123552],\n",
       "        [0.5965251 ],\n",
       "        [0.58108108],\n",
       "        [0.48455598],\n",
       "        [0.38996139],\n",
       "        [0.32239382],\n",
       "        [0.38996139],\n",
       "        [0.40733591],\n",
       "        [0.38030888]]),\n",
       " array([0.02702703, 0.05405405, 0.04826255, 0.03281853, 0.05984556,\n",
       "        0.08494208, 0.08494208, 0.06177606, 0.02895753, 0.        ,\n",
       "        0.02702703, 0.02123552, 0.04247104, 0.07142857, 0.05984556,\n",
       "        0.04054054, 0.08687259, 0.12741313, 0.12741313, 0.1042471 ,\n",
       "        0.05598456, 0.01930502, 0.06949807, 0.07915058, 0.08880309,\n",
       "        0.14285714, 0.11389961, 0.13127413, 0.14285714, 0.18339768,\n",
       "        0.18339768, 0.15444015, 0.11196911, 0.08108108, 0.11969112,\n",
       "        0.12934363, 0.14671815, 0.17181467, 0.14864865, 0.15250965,\n",
       "        0.22007722, 0.24324324, 0.26640927, 0.2027027 , 0.16795367,\n",
       "        0.13127413, 0.17374517, 0.17760618, 0.17760618, 0.25482625,\n",
       "        0.25289575, 0.24131274, 0.26833977, 0.30888031, 0.32432432,\n",
       "        0.25675676, 0.20656371, 0.14671815, 0.18725869, 0.19305019,\n",
       "        0.16216216, 0.25289575, 0.23745174, 0.25096525, 0.30888031,\n",
       "        0.38223938, 0.36486486, 0.2992278 , 0.24131274, 0.19111969,\n",
       "        0.24131274, 0.26640927, 0.24903475, 0.31467181, 0.31853282,\n",
       "        0.32046332, 0.40733591, 0.5019305 , 0.46911197, 0.4015444 ,\n",
       "        0.32818533, 0.25675676, 0.33590734, 0.34749035, 0.33397683,\n",
       "        0.41119691, 0.4034749 , 0.41312741, 0.52123552, 0.5965251 ,\n",
       "        0.58108108, 0.48455598, 0.38996139, 0.32239382, 0.38996139,\n",
       "        0.40733591, 0.38030888, 0.48648649]))"
      ]
     },
     "execution_count": 12,
     "metadata": {},
     "output_type": "execute_result"
    }
   ],
   "source": [
    "X_train,y_train"
   ]
  },
  {
   "cell_type": "code",
   "execution_count": 13,
   "metadata": {},
   "outputs": [],
   "source": [
    "X_test,y_test = get_data(test,look_back)"
   ]
  },
  {
   "cell_type": "code",
   "execution_count": 14,
   "metadata": {},
   "outputs": [],
   "source": [
    "X_train = X_train.reshape(X_train.shape[0],X_train.shape[1],1)\n",
    "X_test = X_test.reshape(X_test.shape[0],X_test.shape[1],1)"
   ]
  },
  {
   "cell_type": "code",
   "execution_count": 15,
   "metadata": {},
   "outputs": [
    {
     "data": {
      "text/plain": [
       "(98, 1, 1)"
      ]
     },
     "execution_count": 15,
     "metadata": {},
     "output_type": "execute_result"
    }
   ],
   "source": [
    "X_train.shape"
   ]
  },
  {
   "cell_type": "markdown",
   "metadata": {},
   "source": [
    "# Build the model"
   ]
  },
  {
   "cell_type": "code",
   "execution_count": 16,
   "metadata": {},
   "outputs": [],
   "source": [
    "model = Sequential()\n",
    "model.add(LSTM(5,input_shape=(1,look_back)))\n",
    "model.add(Dense(1))\n",
    "model.compile(loss='mean_squared_error',optimizer='adam')"
   ]
  },
  {
   "cell_type": "code",
   "execution_count": 17,
   "metadata": {},
   "outputs": [
    {
     "name": "stdout",
     "output_type": "stream",
     "text": [
      "Model: \"sequential\"\n",
      "_________________________________________________________________\n",
      "Layer (type)                 Output Shape              Param #   \n",
      "=================================================================\n",
      "lstm (LSTM)                  (None, 5)                 140       \n",
      "_________________________________________________________________\n",
      "dense (Dense)                (None, 1)                 6         \n",
      "=================================================================\n",
      "Total params: 146\n",
      "Trainable params: 146\n",
      "Non-trainable params: 0\n",
      "_________________________________________________________________\n"
     ]
    }
   ],
   "source": [
    "model.summary()"
   ]
  },
  {
   "cell_type": "code",
   "execution_count": 18,
   "metadata": {},
   "outputs": [
    {
     "name": "stdout",
     "output_type": "stream",
     "text": [
      "Train on 98 samples\n",
      "Epoch 1/50\n",
      "98/98 [==============================] - 8s 77ms/sample - loss: 0.0392\n",
      "Epoch 2/50\n",
      "98/98 [==============================] - 0s 5ms/sample - loss: 0.0177\n",
      "Epoch 3/50\n",
      "98/98 [==============================] - 1s 6ms/sample - loss: 0.0148\n",
      "Epoch 4/50\n",
      "98/98 [==============================] - 0s 5ms/sample - loss: 0.0135\n",
      "Epoch 5/50\n",
      "98/98 [==============================] - 0s 3ms/sample - loss: 0.0123\n",
      "Epoch 6/50\n",
      "98/98 [==============================] - 0s 3ms/sample - loss: 0.0112\n",
      "Epoch 7/50\n",
      "98/98 [==============================] - 0s 4ms/sample - loss: 0.0098\n",
      "Epoch 8/50\n",
      "98/98 [==============================] - 1s 6ms/sample - loss: 0.0087\n",
      "Epoch 9/50\n",
      "98/98 [==============================] - 0s 5ms/sample - loss: 0.0074\n",
      "Epoch 10/50\n",
      "98/98 [==============================] - 0s 4ms/sample - loss: 0.0063\n",
      "Epoch 11/50\n",
      "98/98 [==============================] - 0s 4ms/sample - loss: 0.0052\n",
      "Epoch 12/50\n",
      "98/98 [==============================] - 0s 4ms/sample - loss: 0.0042\n",
      "Epoch 13/50\n",
      "98/98 [==============================] - 1s 5ms/sample - loss: 0.0035\n",
      "Epoch 14/50\n",
      "98/98 [==============================] - 1s 5ms/sample - loss: 0.0029\n",
      "Epoch 15/50\n",
      "98/98 [==============================] - 0s 4ms/sample - loss: 0.0026\n",
      "Epoch 16/50\n",
      "98/98 [==============================] - 0s 5ms/sample - loss: 0.0023\n",
      "Epoch 17/50\n",
      "98/98 [==============================] - 1s 5ms/sample - loss: 0.0023\n",
      "Epoch 18/50\n",
      "98/98 [==============================] - 0s 4ms/sample - loss: 0.0022\n",
      "Epoch 19/50\n",
      "98/98 [==============================] - 0s 4ms/sample - loss: 0.0022\n",
      "Epoch 20/50\n",
      "98/98 [==============================] - 0s 4ms/sample - loss: 0.0021\n",
      "Epoch 21/50\n",
      "98/98 [==============================] - 0s 5ms/sample - loss: 0.0021\n",
      "Epoch 22/50\n",
      "98/98 [==============================] - 1s 5ms/sample - loss: 0.0022\n",
      "Epoch 23/50\n",
      "98/98 [==============================] - 0s 4ms/sample - loss: 0.0021\n",
      "Epoch 24/50\n",
      "98/98 [==============================] - 0s 4ms/sample - loss: 0.0022\n",
      "Epoch 25/50\n",
      "98/98 [==============================] - 0s 4ms/sample - loss: 0.0021\n",
      "Epoch 26/50\n",
      "98/98 [==============================] - 0s 4ms/sample - loss: 0.0021\n",
      "Epoch 27/50\n",
      "98/98 [==============================] - 0s 4ms/sample - loss: 0.0021\n",
      "Epoch 28/50\n",
      "98/98 [==============================] - 0s 4ms/sample - loss: 0.0021\n",
      "Epoch 29/50\n",
      "98/98 [==============================] - 0s 4ms/sample - loss: 0.0021\n",
      "Epoch 30/50\n",
      "98/98 [==============================] - 0s 4ms/sample - loss: 0.0021\n",
      "Epoch 31/50\n",
      "98/98 [==============================] - 1s 6ms/sample - loss: 0.0022\n",
      "Epoch 32/50\n",
      "98/98 [==============================] - 0s 4ms/sample - loss: 0.0021\n",
      "Epoch 33/50\n",
      "98/98 [==============================] - 0s 5ms/sample - loss: 0.0021\n",
      "Epoch 34/50\n",
      "98/98 [==============================] - 0s 4ms/sample - loss: 0.0021\n",
      "Epoch 35/50\n",
      "98/98 [==============================] - 0s 4ms/sample - loss: 0.0021\n",
      "Epoch 36/50\n",
      "98/98 [==============================] - 0s 5ms/sample - loss: 0.0022\n",
      "Epoch 37/50\n",
      "98/98 [==============================] - 1s 5ms/sample - loss: 0.0021\n",
      "Epoch 38/50\n",
      "98/98 [==============================] - 1s 6ms/sample - loss: 0.0021\n",
      "Epoch 39/50\n",
      "98/98 [==============================] - 0s 4ms/sample - loss: 0.0021\n",
      "Epoch 40/50\n",
      "98/98 [==============================] - 0s 4ms/sample - loss: 0.0022\n",
      "Epoch 41/50\n",
      "98/98 [==============================] - 0s 4ms/sample - loss: 0.0021\n",
      "Epoch 42/50\n",
      "98/98 [==============================] - 0s 4ms/sample - loss: 0.0021\n",
      "Epoch 43/50\n",
      "98/98 [==============================] - 0s 4ms/sample - loss: 0.0022\n",
      "Epoch 44/50\n",
      "98/98 [==============================] - 0s 4ms/sample - loss: 0.0021\n",
      "Epoch 45/50\n",
      "98/98 [==============================] - 0s 4ms/sample - loss: 0.0021\n",
      "Epoch 46/50\n",
      "98/98 [==============================] - 0s 4ms/sample - loss: 0.0021\n",
      "Epoch 47/50\n",
      "98/98 [==============================] - 0s 5ms/sample - loss: 0.0021\n",
      "Epoch 48/50\n",
      "98/98 [==============================] - 0s 4ms/sample - loss: 0.0021\n",
      "Epoch 49/50\n",
      "98/98 [==============================] - 1s 5ms/sample - loss: 0.0021\n",
      "Epoch 50/50\n",
      "98/98 [==============================] - 0s 4ms/sample - loss: 0.0021\n"
     ]
    },
    {
     "data": {
      "text/plain": [
       "<tensorflow.python.keras.callbacks.History at 0x14b56208>"
      ]
     },
     "execution_count": 18,
     "metadata": {},
     "output_type": "execute_result"
    }
   ],
   "source": [
    "model.fit(X_train,y_train,epochs=50,batch_size=1)"
   ]
  },
  {
   "cell_type": "code",
   "execution_count": 19,
   "metadata": {},
   "outputs": [],
   "source": [
    "y_pred = model.predict(X_test)"
   ]
  },
  {
   "cell_type": "code",
   "execution_count": 20,
   "metadata": {},
   "outputs": [
    {
     "data": {
      "text/plain": [
       "array([0.0019305])"
      ]
     },
     "execution_count": 20,
     "metadata": {},
     "output_type": "execute_result"
    }
   ],
   "source": [
    "scaler.scale_"
   ]
  },
  {
   "cell_type": "code",
   "execution_count": 21,
   "metadata": {},
   "outputs": [
    {
     "data": {
      "text/plain": [
       "array([[0.47838956],\n",
       "       [0.60082996],\n",
       "       [0.6777102 ],\n",
       "       [0.6812464 ],\n",
       "       [0.5682117 ],\n",
       "       [0.4636111 ],\n",
       "       [0.38569528],\n",
       "       [0.44325152],\n",
       "       [0.4506598 ],\n",
       "       [0.40985718],\n",
       "       [0.49129853],\n",
       "       [0.4654598 ],\n",
       "       [0.49314082],\n",
       "       [0.6242361 ],\n",
       "       [0.7233809 ],\n",
       "       [0.7476915 ],\n",
       "       [0.5682117 ],\n",
       "       [0.48576877],\n",
       "       [0.39499164],\n",
       "       [0.44510415],\n",
       "       [0.48761246],\n",
       "       [0.45436198],\n",
       "       [0.5718473 ],\n",
       "       [0.55364263],\n",
       "       [0.59721744],\n",
       "       [0.6900706 ],\n",
       "       [0.8210286 ],\n",
       "       [0.83944964],\n",
       "       [0.67417014],\n",
       "       [0.57366407],\n",
       "       [0.49129853],\n",
       "       [0.57002985],\n",
       "       [0.59179294],\n",
       "       [0.5445161 ],\n",
       "       [0.59541   ],\n",
       "       [0.6706265 ],\n",
       "       [0.6900706 ],\n",
       "       [0.7990763 ],\n",
       "       [0.942101  ],\n",
       "       [0.9165027 ],\n",
       "       [0.75287414],\n",
       "       [0.6706265 ]], dtype=float32)"
      ]
     },
     "execution_count": 21,
     "metadata": {},
     "output_type": "execute_result"
    }
   ],
   "source": [
    "y_pred"
   ]
  },
  {
   "cell_type": "code",
   "execution_count": 22,
   "metadata": {},
   "outputs": [],
   "source": [
    "y_pred = scaler.inverse_transform(y_pred)"
   ]
  },
  {
   "cell_type": "code",
   "execution_count": 23,
   "metadata": {},
   "outputs": [],
   "source": [
    "y_test = np.array(y_test)\n",
    "y_test = y_test.reshape(-1,1)\n",
    "y_test = scaler.inverse_transform(y_test)"
   ]
  },
  {
   "cell_type": "code",
   "execution_count": 24,
   "metadata": {},
   "outputs": [],
   "source": [
    "# plot basline and predicyion"
   ]
  },
  {
   "cell_type": "code",
   "execution_count": 25,
   "metadata": {},
   "outputs": [
    {
     "data": {
      "image/png": "[encoded data removed]",
      "text/plain": [
       "<Figure size 1008x360 with 1 Axes>"
      ]
     },
     "metadata": {
      "needs_background": "light"
     },
     "output_type": "display_data"
    }
   ],
   "source": [
    "plt.figure(figsize=(14,5))\n",
    "plt.plot(y_test,label='real number of Pasengers')\n",
    "plt.plot(y_pred,label='predicted number of Pasengers')\n",
    "plt.ylabel('#Passenger')\n",
    "plt.legend()\n",
    "plt.savefig('result.png')\n",
    "plt.show()"
   ]
  },
  {
   "cell_type": "code",
   "execution_count": null,
   "metadata": {},
   "outputs": [],
   "source": []
  },
  {
   "cell_type": "code",
   "execution_count": null,
   "metadata": {},
   "outputs": [],
   "source": []
  }
 ],
 "metadata": {
  "kernelspec": {
   "display_name": "Python 3",
   "language": "python",
   "name": "python3"
  },
  "language_info": {
   "codemirror_mode": {
    "name": "ipython",
    "version": 3
   },
   "file_extension": ".py",
   "mimetype": "text/x-python",
   "name": "python",
   "nbconvert_exporter": "python",
   "pygments_lexer": "ipython3",
   "version": "3.7.4"
  }
 },
 "nbformat": 4,
 "nbformat_minor": 4
}
